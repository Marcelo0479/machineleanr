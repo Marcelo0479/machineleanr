{
  "nbformat": 4,
  "nbformat_minor": 0,
  "metadata": {
    "colab": {
      "name": "Machine learn - Classificação",
      "provenance": [],
      "authorship_tag": "ABX9TyOKTdG6p1kKWR3TJXgb987J",
      "include_colab_link": true
    },
    "kernelspec": {
      "name": "python3",
      "display_name": "Python 3"
    },
    "language_info": {
      "name": "python"
    }
  },
  "cells": [
    {
      "cell_type": "markdown",
      "metadata": {
        "id": "view-in-github",
        "colab_type": "text"
      },
      "source": [
        "<a href=\"https://colab.research.google.com/github/Marcelo0479/machinelearn/blob/main/Machine_learn_Classifica%C3%A7%C3%A3o.ipynb\" target=\"_parent\"><img src=\"https://colab.research.google.com/assets/colab-badge.svg\" alt=\"Open In Colab\"/></a>"
      ]
    },
    {
      "cell_type": "markdown",
      "source": [
        "# Parte 1 - Classificação"
      ],
      "metadata": {
        "id": "XsVNWZEKuRny"
      }
    },
    {
      "cell_type": "code",
      "execution_count": 1,
      "metadata": {
        "id": "QxSrT_lliqSu"
      },
      "outputs": [],
      "source": [
        "porco1 = [1, 1, 0]\n",
        "porco2 = [1, 1, 0]\n",
        "porco3 = [1, 1, 0]\n",
        "cachorro4 = [1, 1, 1]\n",
        "cachorro5 = [0, 1, 1]\n",
        "cachorro6 = [0, 1, 1]\n",
        "\n",
        "dados = [porco1, porco2, porco3, cachorro4, cachorro5, cachorro6]\n",
        "\n",
        "marcacoes = [1, 1, 1, -1, -1, -1]"
      ]
    },
    {
      "cell_type": "code",
      "source": [
        "from sklearn.naive_bayes import MultinomialNB"
      ],
      "metadata": {
        "id": "HeP6H9Edi1Ot"
      },
      "execution_count": 2,
      "outputs": []
    },
    {
      "cell_type": "code",
      "source": [
        "modelo = MultinomialNB()\n",
        "modelo.fit(dados, marcacoes)"
      ],
      "metadata": {
        "colab": {
          "base_uri": "https://localhost:8080/"
        },
        "id": "ovxbFaZoi7S5",
        "outputId": "d424a61c-8a45-47e3-947b-cdc5e558aeb9"
      },
      "execution_count": 3,
      "outputs": [
        {
          "output_type": "execute_result",
          "data": {
            "text/plain": [
              "MultinomialNB()"
            ]
          },
          "metadata": {},
          "execution_count": 3
        }
      ]
    },
    {
      "cell_type": "code",
      "source": [
        "misterioso1 = [1, 1, 1]\n",
        "misterioso2 = [1, 0, 0]\n",
        "misterioso3 = [0, 0, 1]\n",
        "teste = [misterioso1, misterioso2, misterioso3]\n",
        "marcacoes_teste = [-1, 1, -1]"
      ],
      "metadata": {
        "id": "g9mrFOAjjGKr"
      },
      "execution_count": 4,
      "outputs": []
    },
    {
      "cell_type": "code",
      "source": [
        "resultado = modelo.predict(teste)\n",
        "resultado"
      ],
      "metadata": {
        "colab": {
          "base_uri": "https://localhost:8080/"
        },
        "id": "y63xb8czjcAp",
        "outputId": "1de94096-498b-482c-df39-7b6f3c445b7f"
      },
      "execution_count": 5,
      "outputs": [
        {
          "output_type": "execute_result",
          "data": {
            "text/plain": [
              "array([-1,  1, -1])"
            ]
          },
          "metadata": {},
          "execution_count": 5
        }
      ]
    },
    {
      "cell_type": "code",
      "source": [
        "diferencas = resultado - marcacoes_teste\n",
        "diferencas"
      ],
      "metadata": {
        "colab": {
          "base_uri": "https://localhost:8080/"
        },
        "id": "VZ8FSrzEla-e",
        "outputId": "106a31ca-59bd-4645-8462-906d4a07de70"
      },
      "execution_count": 6,
      "outputs": [
        {
          "output_type": "execute_result",
          "data": {
            "text/plain": [
              "array([0, 0, 0])"
            ]
          },
          "metadata": {},
          "execution_count": 6
        }
      ]
    },
    {
      "cell_type": "code",
      "source": [
        "acertos = [d for d in diferencas if d == 0]\n",
        "acertos"
      ],
      "metadata": {
        "colab": {
          "base_uri": "https://localhost:8080/"
        },
        "id": "zyxik-9ymnxg",
        "outputId": "dcea2ade-5be5-4e11-81be-47c1006a7500"
      },
      "execution_count": 7,
      "outputs": [
        {
          "output_type": "execute_result",
          "data": {
            "text/plain": [
              "[0, 0, 0]"
            ]
          },
          "metadata": {},
          "execution_count": 7
        }
      ]
    },
    {
      "cell_type": "code",
      "source": [
        "total_acertos = len(acertos)\n",
        "total_elementos = len(teste)"
      ],
      "metadata": {
        "id": "tpWqnbOKneK3"
      },
      "execution_count": 8,
      "outputs": []
    },
    {
      "cell_type": "code",
      "source": [
        "taxa_acerto = total_acertos / total_elementos\n",
        "print(f'{taxa_acerto:.2%}')"
      ],
      "metadata": {
        "colab": {
          "base_uri": "https://localhost:8080/"
        },
        "id": "KpN1SYd9n0_E",
        "outputId": "7db5bd58-4866-4c44-fae7-7ad7b7153dfc"
      },
      "execution_count": 9,
      "outputs": [
        {
          "output_type": "stream",
          "name": "stdout",
          "text": [
            "100.00%\n"
          ]
        }
      ]
    },
    {
      "cell_type": "markdown",
      "source": [
        "# **Parte 2** - Classifica acesso"
      ],
      "metadata": {
        "id": "Hm8LaTkeuQdh"
      }
    },
    {
      "cell_type": "code",
      "source": [
        "import csv"
      ],
      "metadata": {
        "id": "2_odnOHMoEIg"
      },
      "execution_count": 10,
      "outputs": []
    },
    {
      "cell_type": "code",
      "source": [
        "def carregar_acessos():\n",
        "    X = []\n",
        "    Y = []\n",
        "\n",
        "    arquivo = open('acesso.csv', 'r')\n",
        "    leitor = csv.reader(arquivo)\n",
        "\n",
        "    next(leitor)\n",
        "\n",
        "    for home,como_funciona,contato, comprou in leitor:\n",
        "\n",
        "        dado = [int(home),int(como_funciona)\n",
        "            ,int(contato)]\n",
        "        X.append(dado)\n",
        "        Y.append(int(comprou))\n",
        "\n",
        "    return X, Y"
      ],
      "metadata": {
        "id": "Lea2ZJcCr0MZ"
      },
      "execution_count": 11,
      "outputs": []
    },
    {
      "cell_type": "code",
      "source": [
        "x, y  = carregar_acessos()"
      ],
      "metadata": {
        "id": "MzIJ7dCRtJHN"
      },
      "execution_count": 12,
      "outputs": []
    },
    {
      "cell_type": "code",
      "source": [
        "x[:10]"
      ],
      "metadata": {
        "colab": {
          "base_uri": "https://localhost:8080/"
        },
        "id": "4GUv6TSOtKI2",
        "outputId": "2c396a39-2326-4618-c9e6-276d89e7c69e"
      },
      "execution_count": 13,
      "outputs": [
        {
          "output_type": "execute_result",
          "data": {
            "text/plain": [
              "[[1, 1, 0],\n",
              " [1, 1, 0],\n",
              " [1, 1, 0],\n",
              " [1, 1, 0],\n",
              " [1, 1, 0],\n",
              " [1, 0, 1],\n",
              " [1, 1, 0],\n",
              " [1, 0, 1],\n",
              " [1, 1, 0],\n",
              " [1, 0, 1]]"
            ]
          },
          "metadata": {},
          "execution_count": 13
        }
      ]
    },
    {
      "cell_type": "code",
      "source": [
        "y[:10]"
      ],
      "metadata": {
        "colab": {
          "base_uri": "https://localhost:8080/"
        },
        "id": "BsxsgjIMtSCP",
        "outputId": "a4e28732-8670-4cb4-b381-84ca94191e07"
      },
      "execution_count": 14,
      "outputs": [
        {
          "output_type": "execute_result",
          "data": {
            "text/plain": [
              "[0, 0, 0, 0, 0, 1, 0, 1, 0, 1]"
            ]
          },
          "metadata": {},
          "execution_count": 14
        }
      ]
    },
    {
      "cell_type": "code",
      "source": [
        "from sklearn.naive_bayes import MultinomialNB"
      ],
      "metadata": {
        "id": "AKvvQhu7tybt"
      },
      "execution_count": 15,
      "outputs": []
    },
    {
      "cell_type": "code",
      "source": [
        "modelo = MultinomialNB()"
      ],
      "metadata": {
        "id": "qzMefN2KufTN"
      },
      "execution_count": 16,
      "outputs": []
    },
    {
      "cell_type": "code",
      "source": [
        "modelo.fit(x, y)"
      ],
      "metadata": {
        "colab": {
          "base_uri": "https://localhost:8080/"
        },
        "id": "_Ka6canbuiA9",
        "outputId": "da6e98c7-b5c5-4299-e3e9-b672cfd49166"
      },
      "execution_count": 17,
      "outputs": [
        {
          "output_type": "execute_result",
          "data": {
            "text/plain": [
              "MultinomialNB()"
            ]
          },
          "metadata": {},
          "execution_count": 17
        }
      ]
    },
    {
      "cell_type": "code",
      "source": [
        "usuario_1 = [1, 0, 1]\n",
        "usuario_2 = [0, 1, 0]\n",
        "usuario_3 = [1, 0, 0]\n",
        "usuario_4 = [1, 1, 0]\n",
        "usuario_5 = [1 ,1 ,1]\n",
        "teste = [usuario_1, usuario_2, usuario_3, usuario_4, usuario_5]"
      ],
      "metadata": {
        "id": "VohVs0htukkn"
      },
      "execution_count": 18,
      "outputs": []
    },
    {
      "cell_type": "code",
      "source": [
        "modelo.predict(teste)"
      ],
      "metadata": {
        "colab": {
          "base_uri": "https://localhost:8080/"
        },
        "id": "ATcJLWnnu83i",
        "outputId": "414e4e1e-711f-4a10-83b0-cbe1a14b2131"
      },
      "execution_count": 19,
      "outputs": [
        {
          "output_type": "execute_result",
          "data": {
            "text/plain": [
              "array([1, 0, 0, 0, 0])"
            ]
          },
          "metadata": {},
          "execution_count": 19
        }
      ]
    },
    {
      "cell_type": "code",
      "source": [
        "resultado = modelo.predict(x)\n",
        "diferencas = resultado - y\n",
        "diferencas"
      ],
      "metadata": {
        "colab": {
          "base_uri": "https://localhost:8080/"
        },
        "id": "ydiUOQZ_u-qy",
        "outputId": "f901ecc1-80da-42ae-a250-bc9adf9ad79a"
      },
      "execution_count": 20,
      "outputs": [
        {
          "output_type": "execute_result",
          "data": {
            "text/plain": [
              "array([ 0,  0,  0,  0,  0,  0,  0,  0,  0,  0, -1,  0,  0,  0,  0,  0,  0,\n",
              "        0,  0,  0,  0,  0,  0,  0,  0, -1, -1,  0,  0,  0,  0,  0,  0,  0,\n",
              "        0,  0,  0,  0,  0,  0,  0,  0,  0,  0,  0,  0,  0,  0,  0,  0,  0,\n",
              "        0,  0,  0,  0,  0,  0,  0,  0,  0,  0,  0,  0,  0,  0, -1,  0,  0,\n",
              "        0,  0,  0,  0,  0,  0,  0,  0,  0,  0,  0, -1,  0,  0,  0,  0,  0,\n",
              "        0,  0,  0,  0,  0,  0,  0,  0,  0,  0, -1,  0,  0,  0])"
            ]
          },
          "metadata": {},
          "execution_count": 20
        }
      ]
    },
    {
      "cell_type": "code",
      "source": [
        "acertos = [d for d in diferencas if d==0]\n",
        "total_acertos = len(acertos)\n",
        "total_acertos"
      ],
      "metadata": {
        "colab": {
          "base_uri": "https://localhost:8080/"
        },
        "id": "c5nPsk7FwQL9",
        "outputId": "1feda274-cf79-4f52-ed26-a3ec1420dbf7"
      },
      "execution_count": 21,
      "outputs": [
        {
          "output_type": "execute_result",
          "data": {
            "text/plain": [
              "93"
            ]
          },
          "metadata": {},
          "execution_count": 21
        }
      ]
    },
    {
      "cell_type": "code",
      "source": [
        "total_elementos = len(y)\n",
        "total_elementos"
      ],
      "metadata": {
        "colab": {
          "base_uri": "https://localhost:8080/"
        },
        "id": "2qtrQOxsweIb",
        "outputId": "331105db-7a49-4ce3-e6bb-3e1ad2004bb0"
      },
      "execution_count": 22,
      "outputs": [
        {
          "output_type": "execute_result",
          "data": {
            "text/plain": [
              "99"
            ]
          },
          "metadata": {},
          "execution_count": 22
        }
      ]
    },
    {
      "cell_type": "code",
      "source": [
        "taxa_acerto = total_acertos / total_elementos\n",
        "print(f'{taxa_acerto:.2%}')"
      ],
      "metadata": {
        "colab": {
          "base_uri": "https://localhost:8080/"
        },
        "id": "n08YKo2Iwkal",
        "outputId": "986203af-5eb9-4e4b-d8a2-330b76ce8c5f"
      },
      "execution_count": 23,
      "outputs": [
        {
          "output_type": "stream",
          "name": "stdout",
          "text": [
            "93.94%\n"
          ]
        }
      ]
    },
    {
      "cell_type": "code",
      "source": [
        "treino_x = x[:90]\n",
        "treino_y = y[:90]\n",
        "teste_x = x[-9:]\n",
        "teste_y = y[-9:]"
      ],
      "metadata": {
        "id": "K9aG-M8qwyYr"
      },
      "execution_count": 24,
      "outputs": []
    },
    {
      "cell_type": "code",
      "source": [
        "modelo.fit(treino_x, treino_y)"
      ],
      "metadata": {
        "colab": {
          "base_uri": "https://localhost:8080/"
        },
        "id": "yMyCjdZyxhxB",
        "outputId": "5c4c75da-d413-43bd-dc8c-dd9afa71c36d"
      },
      "execution_count": 25,
      "outputs": [
        {
          "output_type": "execute_result",
          "data": {
            "text/plain": [
              "MultinomialNB()"
            ]
          },
          "metadata": {},
          "execution_count": 25
        }
      ]
    },
    {
      "cell_type": "code",
      "source": [
        "resultado = modelo.predict(teste_x)"
      ],
      "metadata": {
        "id": "x414ld0Dx7E8"
      },
      "execution_count": 26,
      "outputs": []
    },
    {
      "cell_type": "code",
      "source": [
        "diferencas = resultado - teste_y"
      ],
      "metadata": {
        "id": "5QRbQuquyCCi"
      },
      "execution_count": 27,
      "outputs": []
    },
    {
      "cell_type": "code",
      "source": [
        "acertos = [d for d in diferencas if d==0]\n",
        "total_acertos = len(acertos)\n",
        "total_acertos"
      ],
      "metadata": {
        "colab": {
          "base_uri": "https://localhost:8080/"
        },
        "outputId": "974960a4-d610-4f66-ed38-2ec904848e6b",
        "id": "VRJSExN8yLwV"
      },
      "execution_count": 28,
      "outputs": [
        {
          "output_type": "execute_result",
          "data": {
            "text/plain": [
              "8"
            ]
          },
          "metadata": {},
          "execution_count": 28
        }
      ]
    },
    {
      "cell_type": "code",
      "source": [
        "total_elementos = len(teste_y)\n",
        "total_elementos"
      ],
      "metadata": {
        "colab": {
          "base_uri": "https://localhost:8080/"
        },
        "outputId": "427e25fa-4ca4-421e-f9e0-932af400d318",
        "id": "D7uICISayXXZ"
      },
      "execution_count": 29,
      "outputs": [
        {
          "output_type": "execute_result",
          "data": {
            "text/plain": [
              "9"
            ]
          },
          "metadata": {},
          "execution_count": 29
        }
      ]
    },
    {
      "cell_type": "code",
      "source": [
        "taxa_acerto = total_acertos / total_elementos\n",
        "print(f'{taxa_acerto:.2%}')"
      ],
      "metadata": {
        "colab": {
          "base_uri": "https://localhost:8080/"
        },
        "outputId": "d73173bb-1fad-4032-f857-5889bf824d2e",
        "id": "hew8UtWAyXXZ"
      },
      "execution_count": 30,
      "outputs": [
        {
          "output_type": "stream",
          "name": "stdout",
          "text": [
            "88.89%\n"
          ]
        }
      ]
    },
    {
      "cell_type": "markdown",
      "source": [
        "# **Parte 3** - Classifica busca"
      ],
      "metadata": {
        "id": "DQFTo2yi1SH1"
      }
    },
    {
      "cell_type": "code",
      "source": [
        "def carregar_buscas():\n",
        "    x = []\n",
        "    y = []\n",
        "\n",
        "    arquivo = open('busca.csv', 'r')\n",
        "    leitor = csv.reader(arquivo)\n",
        "\n",
        "    next(leitor)\n",
        "\n",
        "    for home, busca, logado, comprou in leitor:\n",
        "\n",
        "        dado = [int(home), busca, int(logado)]\n",
        "        x.append(dado)\n",
        "        y.append(int(comprou))\n",
        "\n",
        "    return x, y"
      ],
      "metadata": {
        "id": "oVbyKvTGybeX"
      },
      "execution_count": 31,
      "outputs": []
    },
    {
      "cell_type": "code",
      "source": [
        "x, y = carregar_buscas()"
      ],
      "metadata": {
        "id": "kEfD88oa3CjH"
      },
      "execution_count": 32,
      "outputs": []
    },
    {
      "cell_type": "code",
      "source": [
        "x[:10]"
      ],
      "metadata": {
        "colab": {
          "base_uri": "https://localhost:8080/"
        },
        "id": "Pg65SgnU3b46",
        "outputId": "342c619e-1600-4568-f78f-c1e32a182ce9"
      },
      "execution_count": 33,
      "outputs": [
        {
          "output_type": "execute_result",
          "data": {
            "text/plain": [
              "[[0, 'algoritmos', 1],\n",
              " [0, 'java', 0],\n",
              " [1, 'algoritmos', 0],\n",
              " [1, 'ruby', 1],\n",
              " [1, 'ruby', 0],\n",
              " [0, 'ruby', 1],\n",
              " [0, 'algoritmos', 1],\n",
              " [0, 'ruby', 0],\n",
              " [1, 'algoritmos', 1],\n",
              " [1, 'ruby', 1]]"
            ]
          },
          "metadata": {},
          "execution_count": 33
        }
      ]
    },
    {
      "cell_type": "code",
      "source": [
        "import pandas as pd"
      ],
      "metadata": {
        "id": "_2YdKD8e3lZJ"
      },
      "execution_count": 34,
      "outputs": []
    },
    {
      "cell_type": "code",
      "source": [
        "df = pd.read_csv('busca.csv')\n",
        "df.head()"
      ],
      "metadata": {
        "colab": {
          "base_uri": "https://localhost:8080/",
          "height": 206
        },
        "id": "RAicItF33z7G",
        "outputId": "7142a86b-142e-4f85-ec57-12e0c82401ae"
      },
      "execution_count": 180,
      "outputs": [
        {
          "output_type": "execute_result",
          "data": {
            "text/html": [
              "\n",
              "  <div id=\"df-6c6f2a6b-de12-4a34-8a82-fde87f42b0da\">\n",
              "    <div class=\"colab-df-container\">\n",
              "      <div>\n",
              "<style scoped>\n",
              "    .dataframe tbody tr th:only-of-type {\n",
              "        vertical-align: middle;\n",
              "    }\n",
              "\n",
              "    .dataframe tbody tr th {\n",
              "        vertical-align: top;\n",
              "    }\n",
              "\n",
              "    .dataframe thead th {\n",
              "        text-align: right;\n",
              "    }\n",
              "</style>\n",
              "<table border=\"1\" class=\"dataframe\">\n",
              "  <thead>\n",
              "    <tr style=\"text-align: right;\">\n",
              "      <th></th>\n",
              "      <th>home</th>\n",
              "      <th>busca</th>\n",
              "      <th>logado</th>\n",
              "      <th>comprou</th>\n",
              "    </tr>\n",
              "  </thead>\n",
              "  <tbody>\n",
              "    <tr>\n",
              "      <th>0</th>\n",
              "      <td>0</td>\n",
              "      <td>algoritmos</td>\n",
              "      <td>1</td>\n",
              "      <td>1</td>\n",
              "    </tr>\n",
              "    <tr>\n",
              "      <th>1</th>\n",
              "      <td>0</td>\n",
              "      <td>java</td>\n",
              "      <td>0</td>\n",
              "      <td>1</td>\n",
              "    </tr>\n",
              "    <tr>\n",
              "      <th>2</th>\n",
              "      <td>1</td>\n",
              "      <td>algoritmos</td>\n",
              "      <td>0</td>\n",
              "      <td>1</td>\n",
              "    </tr>\n",
              "    <tr>\n",
              "      <th>3</th>\n",
              "      <td>1</td>\n",
              "      <td>ruby</td>\n",
              "      <td>1</td>\n",
              "      <td>0</td>\n",
              "    </tr>\n",
              "    <tr>\n",
              "      <th>4</th>\n",
              "      <td>1</td>\n",
              "      <td>ruby</td>\n",
              "      <td>0</td>\n",
              "      <td>1</td>\n",
              "    </tr>\n",
              "  </tbody>\n",
              "</table>\n",
              "</div>\n",
              "      <button class=\"colab-df-convert\" onclick=\"convertToInteractive('df-6c6f2a6b-de12-4a34-8a82-fde87f42b0da')\"\n",
              "              title=\"Convert this dataframe to an interactive table.\"\n",
              "              style=\"display:none;\">\n",
              "        \n",
              "  <svg xmlns=\"http://www.w3.org/2000/svg\" height=\"24px\"viewBox=\"0 0 24 24\"\n",
              "       width=\"24px\">\n",
              "    <path d=\"M0 0h24v24H0V0z\" fill=\"none\"/>\n",
              "    <path d=\"M18.56 5.44l.94 2.06.94-2.06 2.06-.94-2.06-.94-.94-2.06-.94 2.06-2.06.94zm-11 1L8.5 8.5l.94-2.06 2.06-.94-2.06-.94L8.5 2.5l-.94 2.06-2.06.94zm10 10l.94 2.06.94-2.06 2.06-.94-2.06-.94-.94-2.06-.94 2.06-2.06.94z\"/><path d=\"M17.41 7.96l-1.37-1.37c-.4-.4-.92-.59-1.43-.59-.52 0-1.04.2-1.43.59L10.3 9.45l-7.72 7.72c-.78.78-.78 2.05 0 2.83L4 21.41c.39.39.9.59 1.41.59.51 0 1.02-.2 1.41-.59l7.78-7.78 2.81-2.81c.8-.78.8-2.07 0-2.86zM5.41 20L4 18.59l7.72-7.72 1.47 1.35L5.41 20z\"/>\n",
              "  </svg>\n",
              "      </button>\n",
              "      \n",
              "  <style>\n",
              "    .colab-df-container {\n",
              "      display:flex;\n",
              "      flex-wrap:wrap;\n",
              "      gap: 12px;\n",
              "    }\n",
              "\n",
              "    .colab-df-convert {\n",
              "      background-color: #E8F0FE;\n",
              "      border: none;\n",
              "      border-radius: 50%;\n",
              "      cursor: pointer;\n",
              "      display: none;\n",
              "      fill: #1967D2;\n",
              "      height: 32px;\n",
              "      padding: 0 0 0 0;\n",
              "      width: 32px;\n",
              "    }\n",
              "\n",
              "    .colab-df-convert:hover {\n",
              "      background-color: #E2EBFA;\n",
              "      box-shadow: 0px 1px 2px rgba(60, 64, 67, 0.3), 0px 1px 3px 1px rgba(60, 64, 67, 0.15);\n",
              "      fill: #174EA6;\n",
              "    }\n",
              "\n",
              "    [theme=dark] .colab-df-convert {\n",
              "      background-color: #3B4455;\n",
              "      fill: #D2E3FC;\n",
              "    }\n",
              "\n",
              "    [theme=dark] .colab-df-convert:hover {\n",
              "      background-color: #434B5C;\n",
              "      box-shadow: 0px 1px 3px 1px rgba(0, 0, 0, 0.15);\n",
              "      filter: drop-shadow(0px 1px 2px rgba(0, 0, 0, 0.3));\n",
              "      fill: #FFFFFF;\n",
              "    }\n",
              "  </style>\n",
              "\n",
              "      <script>\n",
              "        const buttonEl =\n",
              "          document.querySelector('#df-6c6f2a6b-de12-4a34-8a82-fde87f42b0da button.colab-df-convert');\n",
              "        buttonEl.style.display =\n",
              "          google.colab.kernel.accessAllowed ? 'block' : 'none';\n",
              "\n",
              "        async function convertToInteractive(key) {\n",
              "          const element = document.querySelector('#df-6c6f2a6b-de12-4a34-8a82-fde87f42b0da');\n",
              "          const dataTable =\n",
              "            await google.colab.kernel.invokeFunction('convertToInteractive',\n",
              "                                                     [key], {});\n",
              "          if (!dataTable) return;\n",
              "\n",
              "          const docLinkHtml = 'Like what you see? Visit the ' +\n",
              "            '<a target=\"_blank\" href=https://colab.research.google.com/notebooks/data_table.ipynb>data table notebook</a>'\n",
              "            + ' to learn more about interactive tables.';\n",
              "          element.innerHTML = '';\n",
              "          dataTable['output_type'] = 'display_data';\n",
              "          await google.colab.output.renderOutput(dataTable, element);\n",
              "          const docLink = document.createElement('div');\n",
              "          docLink.innerHTML = docLinkHtml;\n",
              "          element.appendChild(docLink);\n",
              "        }\n",
              "      </script>\n",
              "    </div>\n",
              "  </div>\n",
              "  "
            ],
            "text/plain": [
              "   home       busca  logado  comprou\n",
              "0     0  algoritmos       1        1\n",
              "1     0        java       0        1\n",
              "2     1  algoritmos       0        1\n",
              "3     1        ruby       1        0\n",
              "4     1        ruby       0        1"
            ]
          },
          "metadata": {},
          "execution_count": 180
        }
      ]
    },
    {
      "cell_type": "code",
      "source": [
        "df.columns"
      ],
      "metadata": {
        "colab": {
          "base_uri": "https://localhost:8080/"
        },
        "id": "lrcNVIiP4CV2",
        "outputId": "15468ef6-6725-47f1-a86e-e63466cea482"
      },
      "execution_count": 181,
      "outputs": [
        {
          "output_type": "execute_result",
          "data": {
            "text/plain": [
              "Index(['home', 'busca', 'logado', 'comprou'], dtype='object')"
            ]
          },
          "metadata": {},
          "execution_count": 181
        }
      ]
    },
    {
      "cell_type": "code",
      "source": [
        "x_df = df[['home', 'busca', 'logado']]\n",
        "y_df = df['comprou']"
      ],
      "metadata": {
        "id": "u_sLhu6e4C7P"
      },
      "execution_count": 182,
      "outputs": []
    },
    {
      "cell_type": "code",
      "source": [
        " x_df = pd.get_dummies(x_df)\n",
        " x_df.head( )"
      ],
      "metadata": {
        "colab": {
          "base_uri": "https://localhost:8080/",
          "height": 206
        },
        "id": "1SBMuE894DA2",
        "outputId": "0a81020c-4a03-477f-d6ff-9ef0f1e05a68"
      },
      "execution_count": 183,
      "outputs": [
        {
          "output_type": "execute_result",
          "data": {
            "text/html": [
              "\n",
              "  <div id=\"df-919d67e0-0c5e-4570-b8f6-cb57a51e1112\">\n",
              "    <div class=\"colab-df-container\">\n",
              "      <div>\n",
              "<style scoped>\n",
              "    .dataframe tbody tr th:only-of-type {\n",
              "        vertical-align: middle;\n",
              "    }\n",
              "\n",
              "    .dataframe tbody tr th {\n",
              "        vertical-align: top;\n",
              "    }\n",
              "\n",
              "    .dataframe thead th {\n",
              "        text-align: right;\n",
              "    }\n",
              "</style>\n",
              "<table border=\"1\" class=\"dataframe\">\n",
              "  <thead>\n",
              "    <tr style=\"text-align: right;\">\n",
              "      <th></th>\n",
              "      <th>home</th>\n",
              "      <th>logado</th>\n",
              "      <th>busca_algoritmos</th>\n",
              "      <th>busca_java</th>\n",
              "      <th>busca_ruby</th>\n",
              "    </tr>\n",
              "  </thead>\n",
              "  <tbody>\n",
              "    <tr>\n",
              "      <th>0</th>\n",
              "      <td>0</td>\n",
              "      <td>1</td>\n",
              "      <td>1</td>\n",
              "      <td>0</td>\n",
              "      <td>0</td>\n",
              "    </tr>\n",
              "    <tr>\n",
              "      <th>1</th>\n",
              "      <td>0</td>\n",
              "      <td>0</td>\n",
              "      <td>0</td>\n",
              "      <td>1</td>\n",
              "      <td>0</td>\n",
              "    </tr>\n",
              "    <tr>\n",
              "      <th>2</th>\n",
              "      <td>1</td>\n",
              "      <td>0</td>\n",
              "      <td>1</td>\n",
              "      <td>0</td>\n",
              "      <td>0</td>\n",
              "    </tr>\n",
              "    <tr>\n",
              "      <th>3</th>\n",
              "      <td>1</td>\n",
              "      <td>1</td>\n",
              "      <td>0</td>\n",
              "      <td>0</td>\n",
              "      <td>1</td>\n",
              "    </tr>\n",
              "    <tr>\n",
              "      <th>4</th>\n",
              "      <td>1</td>\n",
              "      <td>0</td>\n",
              "      <td>0</td>\n",
              "      <td>0</td>\n",
              "      <td>1</td>\n",
              "    </tr>\n",
              "  </tbody>\n",
              "</table>\n",
              "</div>\n",
              "      <button class=\"colab-df-convert\" onclick=\"convertToInteractive('df-919d67e0-0c5e-4570-b8f6-cb57a51e1112')\"\n",
              "              title=\"Convert this dataframe to an interactive table.\"\n",
              "              style=\"display:none;\">\n",
              "        \n",
              "  <svg xmlns=\"http://www.w3.org/2000/svg\" height=\"24px\"viewBox=\"0 0 24 24\"\n",
              "       width=\"24px\">\n",
              "    <path d=\"M0 0h24v24H0V0z\" fill=\"none\"/>\n",
              "    <path d=\"M18.56 5.44l.94 2.06.94-2.06 2.06-.94-2.06-.94-.94-2.06-.94 2.06-2.06.94zm-11 1L8.5 8.5l.94-2.06 2.06-.94-2.06-.94L8.5 2.5l-.94 2.06-2.06.94zm10 10l.94 2.06.94-2.06 2.06-.94-2.06-.94-.94-2.06-.94 2.06-2.06.94z\"/><path d=\"M17.41 7.96l-1.37-1.37c-.4-.4-.92-.59-1.43-.59-.52 0-1.04.2-1.43.59L10.3 9.45l-7.72 7.72c-.78.78-.78 2.05 0 2.83L4 21.41c.39.39.9.59 1.41.59.51 0 1.02-.2 1.41-.59l7.78-7.78 2.81-2.81c.8-.78.8-2.07 0-2.86zM5.41 20L4 18.59l7.72-7.72 1.47 1.35L5.41 20z\"/>\n",
              "  </svg>\n",
              "      </button>\n",
              "      \n",
              "  <style>\n",
              "    .colab-df-container {\n",
              "      display:flex;\n",
              "      flex-wrap:wrap;\n",
              "      gap: 12px;\n",
              "    }\n",
              "\n",
              "    .colab-df-convert {\n",
              "      background-color: #E8F0FE;\n",
              "      border: none;\n",
              "      border-radius: 50%;\n",
              "      cursor: pointer;\n",
              "      display: none;\n",
              "      fill: #1967D2;\n",
              "      height: 32px;\n",
              "      padding: 0 0 0 0;\n",
              "      width: 32px;\n",
              "    }\n",
              "\n",
              "    .colab-df-convert:hover {\n",
              "      background-color: #E2EBFA;\n",
              "      box-shadow: 0px 1px 2px rgba(60, 64, 67, 0.3), 0px 1px 3px 1px rgba(60, 64, 67, 0.15);\n",
              "      fill: #174EA6;\n",
              "    }\n",
              "\n",
              "    [theme=dark] .colab-df-convert {\n",
              "      background-color: #3B4455;\n",
              "      fill: #D2E3FC;\n",
              "    }\n",
              "\n",
              "    [theme=dark] .colab-df-convert:hover {\n",
              "      background-color: #434B5C;\n",
              "      box-shadow: 0px 1px 3px 1px rgba(0, 0, 0, 0.15);\n",
              "      filter: drop-shadow(0px 1px 2px rgba(0, 0, 0, 0.3));\n",
              "      fill: #FFFFFF;\n",
              "    }\n",
              "  </style>\n",
              "\n",
              "      <script>\n",
              "        const buttonEl =\n",
              "          document.querySelector('#df-919d67e0-0c5e-4570-b8f6-cb57a51e1112 button.colab-df-convert');\n",
              "        buttonEl.style.display =\n",
              "          google.colab.kernel.accessAllowed ? 'block' : 'none';\n",
              "\n",
              "        async function convertToInteractive(key) {\n",
              "          const element = document.querySelector('#df-919d67e0-0c5e-4570-b8f6-cb57a51e1112');\n",
              "          const dataTable =\n",
              "            await google.colab.kernel.invokeFunction('convertToInteractive',\n",
              "                                                     [key], {});\n",
              "          if (!dataTable) return;\n",
              "\n",
              "          const docLinkHtml = 'Like what you see? Visit the ' +\n",
              "            '<a target=\"_blank\" href=https://colab.research.google.com/notebooks/data_table.ipynb>data table notebook</a>'\n",
              "            + ' to learn more about interactive tables.';\n",
              "          element.innerHTML = '';\n",
              "          dataTable['output_type'] = 'display_data';\n",
              "          await google.colab.output.renderOutput(dataTable, element);\n",
              "          const docLink = document.createElement('div');\n",
              "          docLink.innerHTML = docLinkHtml;\n",
              "          element.appendChild(docLink);\n",
              "        }\n",
              "      </script>\n",
              "    </div>\n",
              "  </div>\n",
              "  "
            ],
            "text/plain": [
              "   home  logado  busca_algoritmos  busca_java  busca_ruby\n",
              "0     0       1                 1           0           0\n",
              "1     0       0                 0           1           0\n",
              "2     1       0                 1           0           0\n",
              "3     1       1                 0           0           1\n",
              "4     1       0                 0           0           1"
            ]
          },
          "metadata": {},
          "execution_count": 183
        }
      ]
    },
    {
      "cell_type": "code",
      "source": [
        "x = x_df.values\n",
        "y = y_df.values"
      ],
      "metadata": {
        "id": "LOzQu-Z74DF_"
      },
      "execution_count": 184,
      "outputs": []
    },
    {
      "cell_type": "code",
      "source": [
        "tamanho_treino = int(len(y) * 0.9)\n",
        "tamanho_teste = len(y) - tamanho_treino"
      ],
      "metadata": {
        "id": "VIkQNHVT5lDW"
      },
      "execution_count": 185,
      "outputs": []
    },
    {
      "cell_type": "code",
      "source": [
        "treino_x = x[:tamanho_treino]\n",
        "treino_y = y[:tamanho_treino]\n",
        "teste_x = x[-tamanho_teste:]\n",
        "teste_y = y[-tamanho_teste:]"
      ],
      "metadata": {
        "id": "bY5B-Kqe3Uez"
      },
      "execution_count": 186,
      "outputs": []
    },
    {
      "cell_type": "code",
      "source": [
        "modelo = MultinomialNB()"
      ],
      "metadata": {
        "id": "5UMorxxb7yoG"
      },
      "execution_count": 187,
      "outputs": []
    },
    {
      "cell_type": "code",
      "source": [
        "modelo.fit(treino_x, treino_y)"
      ],
      "metadata": {
        "colab": {
          "base_uri": "https://localhost:8080/"
        },
        "outputId": "fba7b70d-b1df-4b51-ed7a-529fd5a9d76e",
        "id": "fN3aL6Ke3Ue0"
      },
      "execution_count": 188,
      "outputs": [
        {
          "output_type": "execute_result",
          "data": {
            "text/plain": [
              "MultinomialNB()"
            ]
          },
          "metadata": {},
          "execution_count": 188
        }
      ]
    },
    {
      "cell_type": "code",
      "source": [
        "resultado = modelo.predict(teste_x)"
      ],
      "metadata": {
        "id": "OMTCW7Du3Ue1"
      },
      "execution_count": 190,
      "outputs": []
    },
    {
      "cell_type": "code",
      "source": [
        "diferencas = resultado - teste_y"
      ],
      "metadata": {
        "id": "6c0fq0-U3Ue1"
      },
      "execution_count": 45,
      "outputs": []
    },
    {
      "cell_type": "code",
      "source": [
        "acertos = [d for d in diferencas if d==0]\n",
        "total_acertos = len(acertos)\n",
        "total_acertos"
      ],
      "metadata": {
        "colab": {
          "base_uri": "https://localhost:8080/"
        },
        "outputId": "191346f1-942f-4db9-9bee-f1cd107ee43a",
        "id": "kVAwqQZw3Ue1"
      },
      "execution_count": 46,
      "outputs": [
        {
          "output_type": "execute_result",
          "data": {
            "text/plain": [
              "82"
            ]
          },
          "metadata": {},
          "execution_count": 46
        }
      ]
    },
    {
      "cell_type": "code",
      "source": [
        "total_elementos = len(teste_y)\n",
        "total_elementos"
      ],
      "metadata": {
        "colab": {
          "base_uri": "https://localhost:8080/"
        },
        "outputId": "04644cf7-e1d1-4966-b733-5af358c4eead",
        "id": "mQzEl-rx3Ue1"
      },
      "execution_count": 47,
      "outputs": [
        {
          "output_type": "execute_result",
          "data": {
            "text/plain": [
              "100"
            ]
          },
          "metadata": {},
          "execution_count": 47
        }
      ]
    },
    {
      "cell_type": "code",
      "source": [
        "taxa_acerto = total_acertos / total_elementos\n",
        "print(f'{taxa_acerto:.2%}')"
      ],
      "metadata": {
        "colab": {
          "base_uri": "https://localhost:8080/"
        },
        "outputId": "f270ef57-a385-4380-c5bb-952e0f08e7b9",
        "id": "zu3D7YTm3Ue1"
      },
      "execution_count": 48,
      "outputs": [
        {
          "output_type": "stream",
          "name": "stdout",
          "text": [
            "82.00%\n"
          ]
        }
      ]
    },
    {
      "cell_type": "code",
      "source": [
        "# a eficácia do algoritmo que chuta tudo 0 ou 1\n",
        "acerto_de_um = len(y[y==1])\n",
        "acerto_de_zero = len(y[y==0])\n",
        "taxa_de_acerto_base = 1.0 * max(acerto_de_um, acerto_de_zero) / len(y)\n",
        "print(f\"Taxa de acerto base: {taxa_de_acerto_base:.2%}\")\n",
        "print(f\"Taxa de acerto multinomialNB: {taxa_acerto:.2%}\")"
      ],
      "metadata": {
        "id": "NFUk7cND3FjW",
        "colab": {
          "base_uri": "https://localhost:8080/"
        },
        "outputId": "b5783865-578f-4630-d83a-706b46aed506"
      },
      "execution_count": 49,
      "outputs": [
        {
          "output_type": "stream",
          "name": "stdout",
          "text": [
            "Taxa de acerto base: 83.20%\n",
            "Taxa de acerto multinomialNB: 82.00%\n"
          ]
        }
      ]
    },
    {
      "cell_type": "code",
      "source": [
        "from sklearn.dummy import DummyClassifier"
      ],
      "metadata": {
        "id": "y7HXhioDd7fE"
      },
      "execution_count": 50,
      "outputs": []
    },
    {
      "cell_type": "code",
      "source": [
        "modelo_burro = DummyClassifier()\n",
        "modelo_burro.fit(treino_x, treino_y)\n",
        "resultado_burro = modelo_burro.predict(teste_x)"
      ],
      "metadata": {
        "id": "12TWD9D9hrtW"
      },
      "execution_count": 51,
      "outputs": []
    },
    {
      "cell_type": "code",
      "source": [
        "diferencas_burra = resultado_burro - teste_y\n",
        "acertos_burro = [d for d in diferencas_burra if d==0]\n",
        "total_acertos_burro = len(acertos_burro)\n",
        "total_acertos_burro"
      ],
      "metadata": {
        "colab": {
          "base_uri": "https://localhost:8080/"
        },
        "id": "Jg-ZFD2kiGwV",
        "outputId": "65a9faa0-af7b-4396-f75e-70818c02a9e7"
      },
      "execution_count": 52,
      "outputs": [
        {
          "output_type": "execute_result",
          "data": {
            "text/plain": [
              "82"
            ]
          },
          "metadata": {},
          "execution_count": 52
        }
      ]
    },
    {
      "cell_type": "code",
      "source": [
        "taxa_acerto_burro = total_acertos_burro / total_elementos\n",
        "print(f'{taxa_acerto_burro:.2%}')"
      ],
      "metadata": {
        "colab": {
          "base_uri": "https://localhost:8080/"
        },
        "id": "gd1QDAktiarl",
        "outputId": "840c8765-713d-4ae7-9ae0-6688ef5c572f"
      },
      "execution_count": 53,
      "outputs": [
        {
          "output_type": "stream",
          "name": "stdout",
          "text": [
            "82.00%\n"
          ]
        }
      ]
    },
    {
      "cell_type": "code",
      "source": [
        "print(f\"Taxa de acerto base: {taxa_de_acerto_base:.2%}\")\n",
        "print(f\"Taxa de acerto multinomialNB: {taxa_acerto:.2%}\")\n",
        "print(f\"Taxa de acerto burro: {taxa_acerto_burro:.2%}\")"
      ],
      "metadata": {
        "colab": {
          "base_uri": "https://localhost:8080/"
        },
        "id": "a6lF2IySlv79",
        "outputId": "256c6591-b4ad-4d79-909a-971834f153f1"
      },
      "execution_count": 54,
      "outputs": [
        {
          "output_type": "stream",
          "name": "stdout",
          "text": [
            "Taxa de acerto base: 83.20%\n",
            "Taxa de acerto multinomialNB: 82.00%\n",
            "Taxa de acerto burro: 82.00%\n"
          ]
        }
      ]
    },
    {
      "cell_type": "markdown",
      "source": [
        "# Algoritmo Adboost"
      ],
      "metadata": {
        "id": "pPZK-Gr9YmmM"
      }
    },
    {
      "cell_type": "code",
      "source": [
        "from sklearn.ensemble import AdaBoostClassifier\n",
        "modelo = AdaBoostClassifier()"
      ],
      "metadata": {
        "id": "dsv-YouXZKlb"
      },
      "execution_count": 157,
      "outputs": []
    },
    {
      "cell_type": "code",
      "source": [
        "modelo.fit(treino_x, treino_y)"
      ],
      "metadata": {
        "colab": {
          "base_uri": "https://localhost:8080/"
        },
        "outputId": "ec6b72b5-e4b4-4ac7-eaae-110a6f858619",
        "id": "4CpaYfuHZJAS"
      },
      "execution_count": 158,
      "outputs": [
        {
          "output_type": "execute_result",
          "data": {
            "text/plain": [
              "AdaBoostClassifier()"
            ]
          },
          "metadata": {},
          "execution_count": 158
        }
      ]
    },
    {
      "cell_type": "code",
      "source": [
        "resultado = modelo.predict(teste_x)"
      ],
      "metadata": {
        "id": "h_pHlErqZJAT"
      },
      "execution_count": 159,
      "outputs": []
    },
    {
      "cell_type": "code",
      "source": [
        "diferencas = resultado - teste_y"
      ],
      "metadata": {
        "id": "Q1vIcoYGZJAT"
      },
      "execution_count": 160,
      "outputs": []
    },
    {
      "cell_type": "code",
      "source": [
        "acertos = [d for d in diferencas if d==0]\n",
        "total_acertos = len(acertos)\n",
        "total_acertos"
      ],
      "metadata": {
        "colab": {
          "base_uri": "https://localhost:8080/"
        },
        "outputId": "edfb3793-654b-4519-9b35-9717a04bec19",
        "id": "2sw-YMM_ZJAT"
      },
      "execution_count": 161,
      "outputs": [
        {
          "output_type": "execute_result",
          "data": {
            "text/plain": [
              "85"
            ]
          },
          "metadata": {},
          "execution_count": 161
        }
      ]
    },
    {
      "cell_type": "code",
      "source": [
        "total_elementos = len(teste_y)\n",
        "total_elementos"
      ],
      "metadata": {
        "colab": {
          "base_uri": "https://localhost:8080/"
        },
        "outputId": "57015a8b-9f22-46c9-b7dc-bf2adc01b5f0",
        "id": "cRLngROeZJAT"
      },
      "execution_count": 162,
      "outputs": [
        {
          "output_type": "execute_result",
          "data": {
            "text/plain": [
              "100"
            ]
          },
          "metadata": {},
          "execution_count": 162
        }
      ]
    },
    {
      "cell_type": "code",
      "source": [
        "taxa_acerto = total_acertos / total_elementos\n",
        "print(f'{taxa_acerto:.2%}')"
      ],
      "metadata": {
        "colab": {
          "base_uri": "https://localhost:8080/"
        },
        "outputId": "2fd95fac-9585-48cd-cba1-67e17f5c8bf5",
        "id": "oRfOXdRiZJAU"
      },
      "execution_count": 163,
      "outputs": [
        {
          "output_type": "stream",
          "name": "stdout",
          "text": [
            "85.00%\n"
          ]
        }
      ]
    },
    {
      "cell_type": "code",
      "source": [
        "# a eficácia do algoritmo que chuta tudo 0 ou 1\n",
        "acerto_de_um = len(y[y==1])\n",
        "acerto_de_zero = len(y[y==0])\n",
        "taxa_de_acerto_base = 1.0 * max(acerto_de_um, acerto_de_zero) / len(y)\n",
        "print(f\"Taxa de acerto base: {taxa_de_acerto_base:.2%}\")\n",
        "print(f\"Taxa de acerto multinomialNB: {taxa_acerto:.2%}\")"
      ],
      "metadata": {
        "colab": {
          "base_uri": "https://localhost:8080/"
        },
        "outputId": "5e08d228-b7c9-455d-eee1-0ad970055618",
        "id": "y8u9INhoZZ3v"
      },
      "execution_count": 164,
      "outputs": [
        {
          "output_type": "stream",
          "name": "stdout",
          "text": [
            "Taxa de acerto base: 83.20%\n",
            "Taxa de acerto multinomialNB: 85.00%\n"
          ]
        }
      ]
    },
    {
      "cell_type": "markdown",
      "source": [
        "# Comparando algoritimos"
      ],
      "metadata": {
        "id": "BdrX3nJ6d8FW"
      }
    },
    {
      "cell_type": "code",
      "source": [
        "import pandas as pd\n",
        "from sklearn.naive_bayes import MultinomialNB\n",
        "from sklearn.ensemble import AdaBoostClassifier\n",
        "from sklearn.dummy import DummyClassifier\n",
        "from sklearn.metrics import accuracy_score"
      ],
      "metadata": {
        "id": "tVazWC5VtXjb"
      },
      "execution_count": 16,
      "outputs": []
    },
    {
      "cell_type": "code",
      "source": [
        "def melhor_modelo(arquivo):\n",
        "  df = pd.read_csv(arquivo)\n",
        "  x_df = df[['home', 'busca', 'logado']]\n",
        "  y_df = df['comprou']\n",
        "  x_df = pd.get_dummies(x_df)\n",
        "  x = x_df.values\n",
        "  y = y_df.values\n",
        "\n",
        "  indice_treino = int(len(y) * 0.8)\n",
        "  indice_teste = int(len(y) * 0.1)\n",
        "  indice_validacao = indice_treino + indice_teste\n",
        "\n",
        "  treino_x = x[:indice_treino]\n",
        "  treino_y = y[:indice_treino]\n",
        "  teste_x = x[indice_treino : -indice_teste]\n",
        "  teste_y = y[indice_treino : -indice_teste]\n",
        "  validacao_x = x[indice_validacao:]\n",
        "  validacao_y = y[indice_validacao:]\n",
        "\n",
        "  modelo_multinomial = MultinomialNB()\n",
        "  modelo_multinomial.fit(treino_x, treino_y)\n",
        "  previsoes_teste_multinomial = modelo_multinomial.predict(teste_x)\n",
        "  acuracia_teste_multinomial = accuracy_score(teste_y, previsoes_teste_multinomial)\n",
        "  previsoes_validacao_multinomial = modelo_multinomial.predict(validacao_x)\n",
        "  acuracia_validacao_multinomial = accuracy_score(validacao_y, previsoes_validacao_multinomial)\n",
        "\n",
        "  modelo_adboost = AdaBoostClassifier()\n",
        "  modelo_adboost.fit(treino_x, treino_y)\n",
        "  previsoes_teste_adboost = modelo_adboost.predict(teste_x)\n",
        "  acuracia_teste_adboost = accuracy_score(teste_y, previsoes_teste_adboost)\n",
        "  previsoes_validacao_adboost = modelo_adboost.predict(validacao_x)\n",
        "  acuracia_validacao_adboost = accuracy_score(validacao_y, previsoes_validacao_adboost)\n",
        "\n",
        "  modelo_burro = DummyClassifier()\n",
        "  modelo_burro.fit(treino_x, treino_y)\n",
        "  previsao_burra = modelo_burro.predict(teste_x)\n",
        "  acuracia_burra = accuracy_score(validacao_y, previsao_burra)\n",
        "\n",
        "  if acuracia_validacao_multinomial > acuracia_validacao_adboost:\n",
        "    vencedor = ['multinomial', acuracia_validacao_multinomial]\n",
        "  else:\n",
        "    vencedor = ['adboost' , acuracia_validacao_adboost]\n",
        "\n",
        "  print(f'A acurácia do base foi de {acuracia_burra:.2%}')\n",
        "  print(f'A acurácia do teste multinomial foi de {acuracia_teste_multinomial:.2%}')\n",
        "  print(f'A acurácia da validação multinomial foi de {acuracia_validacao_multinomial:.2%}')\n",
        "  print(f'A acurácia do teste adboost foi de {acuracia_teste_adboost:.2%}')\n",
        "  print(f'A acurácia da validação adboost foi de {acuracia_validacao_adboost:.2%}')\n",
        "  print(f'O modelo vencedor na validação foi {vencedor[0]} com acuracia de {vencedor[1]:.2%}')  "
      ],
      "metadata": {
        "id": "eE4tCTm-ZaRA"
      },
      "execution_count": 34,
      "outputs": []
    },
    {
      "cell_type": "code",
      "source": [
        "melhor_modelo('busca.csv')"
      ],
      "metadata": {
        "colab": {
          "base_uri": "https://localhost:8080/"
        },
        "id": "97ve6c0ltI4X",
        "outputId": "50bbbbb6-bdaa-4c42-dd79-0b0ddd75eed8"
      },
      "execution_count": 35,
      "outputs": [
        {
          "output_type": "stream",
          "name": "stdout",
          "text": [
            "A acurácia do base foi de 82.00%\n",
            "A acurácia do teste multinomial foi de 82.00%\n",
            "A acurácia da validação multinomial foi de 82.00%\n",
            "A acurácia do teste adboost foi de 84.00%\n",
            "A acurácia da validação adboost foi de 85.00%\n",
            "O modelo vencedor na validação foi adboost com acuracia de 85.00%\n"
          ]
        }
      ]
    },
    {
      "cell_type": "code",
      "source": [
        "melhor_modelo('busca2.csv')"
      ],
      "metadata": {
        "colab": {
          "base_uri": "https://localhost:8080/"
        },
        "id": "ddK7CUbgtRgP",
        "outputId": "02efafff-f06d-406c-9e90-74912b172360"
      },
      "execution_count": 36,
      "outputs": [
        {
          "output_type": "stream",
          "name": "stdout",
          "text": [
            "A acurácia do base foi de 62.50%\n",
            "A acurácia do teste multinomial foi de 75.00%\n",
            "A acurácia da validação multinomial foi de 75.00%\n",
            "A acurácia do teste adboost foi de 75.00%\n",
            "A acurácia da validação adboost foi de 62.50%\n",
            "O modelo vencedor na validação foi multinomial com acuracia de 75.00%\n"
          ]
        }
      ]
    },
    {
      "cell_type": "code",
      "source": [
        ""
      ],
      "metadata": {
        "id": "5LBDQ8-Zu44L"
      },
      "execution_count": null,
      "outputs": []
    }
  ]
}