{
  "nbformat": 4,
  "nbformat_minor": 0,
  "metadata": {
    "colab": {
      "name": "Machine learning  - Validation",
      "provenance": [],
      "authorship_tag": "ABX9TyOTVgMUYvUBKrXmdnEnFoe4",
      "include_colab_link": true
    },
    "kernelspec": {
      "name": "python3",
      "display_name": "Python 3"
    },
    "language_info": {
      "name": "python"
    }
  },
  "cells": [
    {
      "cell_type": "markdown",
      "metadata": {
        "id": "view-in-github",
        "colab_type": "text"
      },
      "source": [
        "<a href=\"https://colab.research.google.com/github/Marcelo0479/machinelearn/blob/main/Machine_learning_Validation.ipynb\" target=\"_parent\"><img src=\"https://colab.research.google.com/assets/colab-badge.svg\" alt=\"Open In Colab\"/></a>"
      ]
    },
    {
      "cell_type": "markdown",
      "source": [
        "# Importing and testing the algorithm with two different training and testing divisions"
      ],
      "metadata": {
        "id": "yFg3PIIiz2VV"
      }
    },
    {
      "cell_type": "code",
      "source": [
        "import pandas as pd"
      ],
      "metadata": {
        "id": "-cKAmR1huwmy"
      },
      "execution_count": 372,
      "outputs": []
    },
    {
      "cell_type": "code",
      "execution_count": 373,
      "metadata": {
        "id": "6pxnhi1nuOG-"
      },
      "outputs": [],
      "source": [
        "url = \"https://gist.githubusercontent.com/guilhermesilveira/e99a526b2e7ccc6c3b70f53db43a87d2/raw/1605fc74aa778066bf2e6695e24d53cf65f2f447/machine-learning-carros-simulacao.csv\"\n",
        "\n",
        "dados = pd.read_csv(url).drop(columns=[\"Unnamed: 0\"], axis=1)"
      ]
    },
    {
      "cell_type": "code",
      "source": [
        "dados.head()"
      ],
      "metadata": {
        "colab": {
          "base_uri": "https://localhost:8080/",
          "height": 206
        },
        "id": "cNKLQ_ezu0RR",
        "outputId": "b6c8a47c-14c8-4d5e-a489-1a80b05515da"
      },
      "execution_count": 374,
      "outputs": [
        {
          "output_type": "execute_result",
          "data": {
            "text/html": [
              "\n",
              "  <div id=\"df-2fa82c3f-2e88-4093-be1b-18f691838b94\">\n",
              "    <div class=\"colab-df-container\">\n",
              "      <div>\n",
              "<style scoped>\n",
              "    .dataframe tbody tr th:only-of-type {\n",
              "        vertical-align: middle;\n",
              "    }\n",
              "\n",
              "    .dataframe tbody tr th {\n",
              "        vertical-align: top;\n",
              "    }\n",
              "\n",
              "    .dataframe thead th {\n",
              "        text-align: right;\n",
              "    }\n",
              "</style>\n",
              "<table border=\"1\" class=\"dataframe\">\n",
              "  <thead>\n",
              "    <tr style=\"text-align: right;\">\n",
              "      <th></th>\n",
              "      <th>preco</th>\n",
              "      <th>vendido</th>\n",
              "      <th>idade_do_modelo</th>\n",
              "      <th>km_por_ano</th>\n",
              "    </tr>\n",
              "  </thead>\n",
              "  <tbody>\n",
              "    <tr>\n",
              "      <th>0</th>\n",
              "      <td>30941.02</td>\n",
              "      <td>1</td>\n",
              "      <td>18</td>\n",
              "      <td>35085.22134</td>\n",
              "    </tr>\n",
              "    <tr>\n",
              "      <th>1</th>\n",
              "      <td>40557.96</td>\n",
              "      <td>1</td>\n",
              "      <td>20</td>\n",
              "      <td>12622.05362</td>\n",
              "    </tr>\n",
              "    <tr>\n",
              "      <th>2</th>\n",
              "      <td>89627.50</td>\n",
              "      <td>0</td>\n",
              "      <td>12</td>\n",
              "      <td>11440.79806</td>\n",
              "    </tr>\n",
              "    <tr>\n",
              "      <th>3</th>\n",
              "      <td>95276.14</td>\n",
              "      <td>0</td>\n",
              "      <td>3</td>\n",
              "      <td>43167.32682</td>\n",
              "    </tr>\n",
              "    <tr>\n",
              "      <th>4</th>\n",
              "      <td>117384.68</td>\n",
              "      <td>1</td>\n",
              "      <td>4</td>\n",
              "      <td>12770.11290</td>\n",
              "    </tr>\n",
              "  </tbody>\n",
              "</table>\n",
              "</div>\n",
              "      <button class=\"colab-df-convert\" onclick=\"convertToInteractive('df-2fa82c3f-2e88-4093-be1b-18f691838b94')\"\n",
              "              title=\"Convert this dataframe to an interactive table.\"\n",
              "              style=\"display:none;\">\n",
              "        \n",
              "  <svg xmlns=\"http://www.w3.org/2000/svg\" height=\"24px\"viewBox=\"0 0 24 24\"\n",
              "       width=\"24px\">\n",
              "    <path d=\"M0 0h24v24H0V0z\" fill=\"none\"/>\n",
              "    <path d=\"M18.56 5.44l.94 2.06.94-2.06 2.06-.94-2.06-.94-.94-2.06-.94 2.06-2.06.94zm-11 1L8.5 8.5l.94-2.06 2.06-.94-2.06-.94L8.5 2.5l-.94 2.06-2.06.94zm10 10l.94 2.06.94-2.06 2.06-.94-2.06-.94-.94-2.06-.94 2.06-2.06.94z\"/><path d=\"M17.41 7.96l-1.37-1.37c-.4-.4-.92-.59-1.43-.59-.52 0-1.04.2-1.43.59L10.3 9.45l-7.72 7.72c-.78.78-.78 2.05 0 2.83L4 21.41c.39.39.9.59 1.41.59.51 0 1.02-.2 1.41-.59l7.78-7.78 2.81-2.81c.8-.78.8-2.07 0-2.86zM5.41 20L4 18.59l7.72-7.72 1.47 1.35L5.41 20z\"/>\n",
              "  </svg>\n",
              "      </button>\n",
              "      \n",
              "  <style>\n",
              "    .colab-df-container {\n",
              "      display:flex;\n",
              "      flex-wrap:wrap;\n",
              "      gap: 12px;\n",
              "    }\n",
              "\n",
              "    .colab-df-convert {\n",
              "      background-color: #E8F0FE;\n",
              "      border: none;\n",
              "      border-radius: 50%;\n",
              "      cursor: pointer;\n",
              "      display: none;\n",
              "      fill: #1967D2;\n",
              "      height: 32px;\n",
              "      padding: 0 0 0 0;\n",
              "      width: 32px;\n",
              "    }\n",
              "\n",
              "    .colab-df-convert:hover {\n",
              "      background-color: #E2EBFA;\n",
              "      box-shadow: 0px 1px 2px rgba(60, 64, 67, 0.3), 0px 1px 3px 1px rgba(60, 64, 67, 0.15);\n",
              "      fill: #174EA6;\n",
              "    }\n",
              "\n",
              "    [theme=dark] .colab-df-convert {\n",
              "      background-color: #3B4455;\n",
              "      fill: #D2E3FC;\n",
              "    }\n",
              "\n",
              "    [theme=dark] .colab-df-convert:hover {\n",
              "      background-color: #434B5C;\n",
              "      box-shadow: 0px 1px 3px 1px rgba(0, 0, 0, 0.15);\n",
              "      filter: drop-shadow(0px 1px 2px rgba(0, 0, 0, 0.3));\n",
              "      fill: #FFFFFF;\n",
              "    }\n",
              "  </style>\n",
              "\n",
              "      <script>\n",
              "        const buttonEl =\n",
              "          document.querySelector('#df-2fa82c3f-2e88-4093-be1b-18f691838b94 button.colab-df-convert');\n",
              "        buttonEl.style.display =\n",
              "          google.colab.kernel.accessAllowed ? 'block' : 'none';\n",
              "\n",
              "        async function convertToInteractive(key) {\n",
              "          const element = document.querySelector('#df-2fa82c3f-2e88-4093-be1b-18f691838b94');\n",
              "          const dataTable =\n",
              "            await google.colab.kernel.invokeFunction('convertToInteractive',\n",
              "                                                     [key], {});\n",
              "          if (!dataTable) return;\n",
              "\n",
              "          const docLinkHtml = 'Like what you see? Visit the ' +\n",
              "            '<a target=\"_blank\" href=https://colab.research.google.com/notebooks/data_table.ipynb>data table notebook</a>'\n",
              "            + ' to learn more about interactive tables.';\n",
              "          element.innerHTML = '';\n",
              "          dataTable['output_type'] = 'display_data';\n",
              "          await google.colab.output.renderOutput(dataTable, element);\n",
              "          const docLink = document.createElement('div');\n",
              "          docLink.innerHTML = docLinkHtml;\n",
              "          element.appendChild(docLink);\n",
              "        }\n",
              "      </script>\n",
              "    </div>\n",
              "  </div>\n",
              "  "
            ],
            "text/plain": [
              "       preco  vendido  idade_do_modelo   km_por_ano\n",
              "0   30941.02        1               18  35085.22134\n",
              "1   40557.96        1               20  12622.05362\n",
              "2   89627.50        0               12  11440.79806\n",
              "3   95276.14        0                3  43167.32682\n",
              "4  117384.68        1                4  12770.11290"
            ]
          },
          "metadata": {},
          "execution_count": 374
        }
      ]
    },
    {
      "cell_type": "code",
      "source": [
        "import numpy as np\n",
        "from sklearn.model_selection import train_test_split\n",
        "from sklearn.metrics import accuracy_score\n",
        "SEED = 158020\n",
        "np.random.seed(SEED)"
      ],
      "metadata": {
        "id": "cPwetQQpu1zv"
      },
      "execution_count": 375,
      "outputs": []
    },
    {
      "cell_type": "code",
      "source": [
        "x = dados[[\"preco\", \"idade_do_modelo\", \"km_por_ano\"]]\n",
        "y = dados[\"vendido\"]"
      ],
      "metadata": {
        "id": "lqUX2AYYwfD5"
      },
      "execution_count": 376,
      "outputs": []
    },
    {
      "cell_type": "code",
      "source": [
        "treino_x, teste_x, treino_y, teste_y = train_test_split(x, y, test_size = 0.25,\n",
        "                                                         stratify = y)\n",
        "print(\"Treinaremos com %d elementos e testaremos com %d elementos\" % (len(treino_x), len(teste_x)))"
      ],
      "metadata": {
        "colab": {
          "base_uri": "https://localhost:8080/"
        },
        "id": "F46OdZIwwf89",
        "outputId": "2a3263ff-c6b3-435b-c392-d093d6104b1b"
      },
      "execution_count": 377,
      "outputs": [
        {
          "output_type": "stream",
          "name": "stdout",
          "text": [
            "Treinaremos com 7500 elementos e testaremos com 2500 elementos\n"
          ]
        }
      ]
    },
    {
      "cell_type": "code",
      "source": [
        "from sklearn.dummy import DummyClassifier\n",
        "\n",
        "dummy_stratified = DummyClassifier(strategy='stratified')\n",
        "dummy_stratified.fit(treino_x, treino_y)\n",
        "acuracia = dummy_stratified.score(teste_x, teste_y) * 100\n",
        "\n",
        "print(\"A acurácia do dummy stratified foi de %.2f%%\" % acuracia)"
      ],
      "metadata": {
        "colab": {
          "base_uri": "https://localhost:8080/"
        },
        "id": "UP-cj0Z0wt2T",
        "outputId": "cbcda0e9-f6f8-4669-80ac-cff532c5fe6a"
      },
      "execution_count": 378,
      "outputs": [
        {
          "output_type": "stream",
          "name": "stdout",
          "text": [
            "A acurácia do dummy stratified foi de 50.96%\n"
          ]
        }
      ]
    },
    {
      "cell_type": "code",
      "source": [
        "from sklearn.tree import DecisionTreeClassifier\n",
        "\n",
        "modelo = DecisionTreeClassifier(max_depth=2)\n",
        "modelo.fit(treino_x, treino_y)\n",
        "previsoes = modelo.predict(teste_x)\n",
        "\n",
        "acuracia = accuracy_score(teste_y, previsoes) * 100\n",
        "print (\"A acurácia foi %.2f%%\" % acuracia)"
      ],
      "metadata": {
        "colab": {
          "base_uri": "https://localhost:8080/"
        },
        "id": "jK9yFnC3wxPC",
        "outputId": "997675c6-b15c-459a-c718-d28c2d274d48"
      },
      "execution_count": 379,
      "outputs": [
        {
          "output_type": "stream",
          "name": "stdout",
          "text": [
            "A acurácia foi 71.92%\n"
          ]
        }
      ]
    },
    {
      "cell_type": "markdown",
      "source": [
        "# Making cross validation"
      ],
      "metadata": {
        "id": "dRm35iJD1WPR"
      }
    },
    {
      "cell_type": "code",
      "source": [
        "from sklearn.model_selection import cross_validate"
      ],
      "metadata": {
        "id": "zMfKZX6mwzC1"
      },
      "execution_count": 380,
      "outputs": []
    },
    {
      "cell_type": "code",
      "source": [
        "# With 3 cross validadions\n",
        "model = DecisionTreeClassifier(max_depth= 2)\n",
        "results = cross_validate(model, x, y, cv = 3)\n",
        "mean = results['test_score'].mean()\n",
        "std = results['test_score'].std() \n",
        "accuracy_range = (mean - 2 * std, mean + 2 * std)\n",
        "print(f'{accuracy_range[0]:.2%} - {accuracy_range[1]:.2%}')"
      ],
      "metadata": {
        "colab": {
          "base_uri": "https://localhost:8080/"
        },
        "id": "uO_anKkr1soM",
        "outputId": "c49be38b-1df1-47c2-a5b4-72fd2b5bf610"
      },
      "execution_count": 381,
      "outputs": [
        {
          "output_type": "stream",
          "name": "stdout",
          "text": [
            "74.99% - 76.57%\n"
          ]
        }
      ]
    },
    {
      "cell_type": "code",
      "source": [
        "# With 5 cross validadions\n",
        "model = DecisionTreeClassifier(max_depth= 2)\n",
        "results = cross_validate(model, x, y, cv = 5)\n",
        "mean = results['test_score'].mean()\n",
        "std = results['test_score'].std() \n",
        "accuracy_range = (mean - 2 * std, mean + 2 * std)\n",
        "print(f'{accuracy_range[0]:.2%} - {accuracy_range[1]:.2%}')"
      ],
      "metadata": {
        "colab": {
          "base_uri": "https://localhost:8080/"
        },
        "outputId": "c1e71461-7997-4e3b-b8f1-1bf4c4aece61",
        "id": "dGUXe35w4D4f"
      },
      "execution_count": 382,
      "outputs": [
        {
          "output_type": "stream",
          "name": "stdout",
          "text": [
            "75.21% - 76.35%\n"
          ]
        }
      ]
    },
    {
      "cell_type": "markdown",
      "source": [
        "# Randomize the cross validation"
      ],
      "metadata": {
        "id": "h1QzLZchEGeM"
      }
    },
    {
      "cell_type": "code",
      "source": [
        "from sklearn.model_selection import KFold\n",
        "\n",
        "SEED = 301\n",
        "np.random.seed(SEED)\n",
        "\n",
        "cv = KFold(n_splits= 10)\n",
        "\n",
        "model = DecisionTreeClassifier(max_depth= 2)\n",
        "results = cross_validate(model, x, y, cv = cv)\n",
        "mean = results['test_score'].mean()\n",
        "std = results['test_score'].std() \n",
        "accuracy_range = (mean - 2 * std, mean + 2 * std)\n",
        "print(f'Accuracy mean: {mean:.2%}')\n",
        "print(f'accuracy range: {accuracy_range[0]:.2%} - {accuracy_range[1]:.2%}')"
      ],
      "metadata": {
        "colab": {
          "base_uri": "https://localhost:8080/"
        },
        "outputId": "45e0c5b7-61ef-4e62-cc74-9a7a32e31c41",
        "id": "Xy1lVgo-Ev0m"
      },
      "execution_count": 383,
      "outputs": [
        {
          "output_type": "stream",
          "name": "stdout",
          "text": [
            "Accuracy mean: 75.78%\n",
            "accuracy range: 74.37% - 77.19%\n"
          ]
        }
      ]
    },
    {
      "cell_type": "code",
      "source": [
        "SEED = 301\n",
        "np.random.seed(SEED)\n",
        "\n",
        "cv = KFold(n_splits= 10, shuffle= True)\n",
        "\n",
        "model = DecisionTreeClassifier(max_depth= 2)\n",
        "results = cross_validate(model, x, y, cv = cv)\n",
        "mean = results['test_score'].mean()\n",
        "std = results['test_score'].std() \n",
        "accuracy_range = (mean - 2 * std, mean + 2 * std)\n",
        "print(f'Accuracy mean: {mean:.2%}')\n",
        "print(f'accuracy range: {accuracy_range[0]:.2%} - {accuracy_range[1]:.2%}')"
      ],
      "metadata": {
        "colab": {
          "base_uri": "https://localhost:8080/"
        },
        "outputId": "dde93dcd-fa01-468d-a3a0-06481d4fcdd1",
        "id": "GnF350cKF3nZ"
      },
      "execution_count": 384,
      "outputs": [
        {
          "output_type": "stream",
          "name": "stdout",
          "text": [
            "Accuracy mean: 75.76%\n",
            "accuracy range: 73.26% - 78.26%\n"
          ]
        }
      ]
    },
    {
      "cell_type": "markdown",
      "source": [
        "# Simulate a unlucky situation"
      ],
      "metadata": {
        "id": "-3ucy29uHCgw"
      }
    },
    {
      "cell_type": "code",
      "source": [
        "unlucky_data = dados.sort_values('vendido', ascending=True)\n",
        "unlucky_x = unlucky_data[[\"preco\", \"idade_do_modelo\", \"km_por_ano\"]]\n",
        "unlucky_y = unlucky_data[\"vendido\"]"
      ],
      "metadata": {
        "id": "ZvSXTZRzFQ4e"
      },
      "execution_count": 385,
      "outputs": []
    },
    {
      "cell_type": "code",
      "source": [
        "SEED = 301\n",
        "np.random.seed(SEED)\n",
        "\n",
        "cv = KFold(n_splits= 10)\n",
        "\n",
        "model = DecisionTreeClassifier(max_depth= 2)\n",
        "results = cross_validate(model, unlucky_x, unlucky_y, cv = cv)\n",
        "mean = results['test_score'].mean()\n",
        "std = results['test_score'].std() \n",
        "accuracy_range = (mean - 2 * std, mean + 2 * std)\n",
        "print(f'Accuracy mean: {mean:.2%}')\n",
        "print(f'accuracy range: {accuracy_range[0]:.2%} - {accuracy_range[1]:.2%}')"
      ],
      "metadata": {
        "colab": {
          "base_uri": "https://localhost:8080/"
        },
        "outputId": "beb33ab0-c7d1-4ff7-8d48-5f51453c4400",
        "id": "SdebwGtSH0C7"
      },
      "execution_count": 386,
      "outputs": [
        {
          "output_type": "stream",
          "name": "stdout",
          "text": [
            "Accuracy mean: 57.84%\n",
            "accuracy range: 34.29% - 81.39%\n"
          ]
        }
      ]
    },
    {
      "cell_type": "code",
      "source": [
        "SEED = 301\n",
        "np.random.seed(SEED)\n",
        "\n",
        "cv = KFold(n_splits= 10, shuffle= True)\n",
        "\n",
        "model = DecisionTreeClassifier(max_depth= 2)\n",
        "results = cross_validate(model, unlucky_x, unlucky_y, cv = cv)\n",
        "mean = results['test_score'].mean()\n",
        "std = results['test_score'].std() \n",
        "accuracy_range = (mean - 2 * std, mean + 2 * std)\n",
        "print(f'Accuracy mean: {mean:.2%}')\n",
        "print(f'accuracy range: {accuracy_range[0]:.2%} - {accuracy_range[1]:.2%}')"
      ],
      "metadata": {
        "colab": {
          "base_uri": "https://localhost:8080/"
        },
        "outputId": "c12200e9-2d2d-43ab-8234-054c992265b8",
        "id": "LuCVQ3hfIR2m"
      },
      "execution_count": 387,
      "outputs": [
        {
          "output_type": "stream",
          "name": "stdout",
          "text": [
            "Accuracy mean: 75.78%\n",
            "accuracy range: 72.30% - 79.26%\n"
          ]
        }
      ]
    },
    {
      "cell_type": "code",
      "source": [
        "from sklearn.model_selection import StratifiedKFold"
      ],
      "metadata": {
        "id": "F2PrX9VSHshC"
      },
      "execution_count": 388,
      "outputs": []
    },
    {
      "cell_type": "code",
      "source": [
        "SEED = 301\n",
        "np.random.seed(SEED)\n",
        "\n",
        "cv = StratifiedKFold(n_splits= 10, shuffle= True)\n",
        "\n",
        "model = DecisionTreeClassifier(max_depth= 2)\n",
        "results = cross_validate(model, unlucky_x, unlucky_y, cv = cv)\n",
        "mean = results['test_score'].mean()\n",
        "std = results['test_score'].std() \n",
        "accuracy_range = (mean - 2 * std, mean + 2 * std)\n",
        "print(f'Accuracy mean: {mean:.2%}')\n",
        "print(f'accuracy range: {accuracy_range[0]:.2%} - {accuracy_range[1]:.2%}')"
      ],
      "metadata": {
        "colab": {
          "base_uri": "https://localhost:8080/"
        },
        "outputId": "427f6cf8-9197-4290-f82c-8ba2139c4eb8",
        "id": "gc_CsIXdIxay"
      },
      "execution_count": 389,
      "outputs": [
        {
          "output_type": "stream",
          "name": "stdout",
          "text": [
            "Accuracy mean: 75.78%\n",
            "accuracy range: 73.55% - 78.01%\n"
          ]
        }
      ]
    },
    {
      "cell_type": "markdown",
      "source": [
        "# Grouping by an identifing feature"
      ],
      "metadata": {
        "id": "HFlpkrq9LPta"
      }
    },
    {
      "cell_type": "code",
      "source": [
        "# Creeting and adding a feature to be the identifing feature\n",
        "np.random.seed(SEED)\n",
        "dados['model'] = dados.idade_do_modelo + np.random.randint(-2, 3, size=10000)\n",
        "dados.model = dados.model + abs(dados.model.min()) + 1\n",
        "dados.head()"
      ],
      "metadata": {
        "colab": {
          "base_uri": "https://localhost:8080/",
          "height": 206
        },
        "id": "7wUqX83fLvEY",
        "outputId": "d8ba33d3-b9a3-4e4e-9508-de843843a371"
      },
      "execution_count": 390,
      "outputs": [
        {
          "output_type": "execute_result",
          "data": {
            "text/html": [
              "\n",
              "  <div id=\"df-b42805df-a8b3-4ec2-9a3e-18858b2c0909\">\n",
              "    <div class=\"colab-df-container\">\n",
              "      <div>\n",
              "<style scoped>\n",
              "    .dataframe tbody tr th:only-of-type {\n",
              "        vertical-align: middle;\n",
              "    }\n",
              "\n",
              "    .dataframe tbody tr th {\n",
              "        vertical-align: top;\n",
              "    }\n",
              "\n",
              "    .dataframe thead th {\n",
              "        text-align: right;\n",
              "    }\n",
              "</style>\n",
              "<table border=\"1\" class=\"dataframe\">\n",
              "  <thead>\n",
              "    <tr style=\"text-align: right;\">\n",
              "      <th></th>\n",
              "      <th>preco</th>\n",
              "      <th>vendido</th>\n",
              "      <th>idade_do_modelo</th>\n",
              "      <th>km_por_ano</th>\n",
              "      <th>model</th>\n",
              "    </tr>\n",
              "  </thead>\n",
              "  <tbody>\n",
              "    <tr>\n",
              "      <th>0</th>\n",
              "      <td>30941.02</td>\n",
              "      <td>1</td>\n",
              "      <td>18</td>\n",
              "      <td>35085.22134</td>\n",
              "      <td>18</td>\n",
              "    </tr>\n",
              "    <tr>\n",
              "      <th>1</th>\n",
              "      <td>40557.96</td>\n",
              "      <td>1</td>\n",
              "      <td>20</td>\n",
              "      <td>12622.05362</td>\n",
              "      <td>24</td>\n",
              "    </tr>\n",
              "    <tr>\n",
              "      <th>2</th>\n",
              "      <td>89627.50</td>\n",
              "      <td>0</td>\n",
              "      <td>12</td>\n",
              "      <td>11440.79806</td>\n",
              "      <td>14</td>\n",
              "    </tr>\n",
              "    <tr>\n",
              "      <th>3</th>\n",
              "      <td>95276.14</td>\n",
              "      <td>0</td>\n",
              "      <td>3</td>\n",
              "      <td>43167.32682</td>\n",
              "      <td>6</td>\n",
              "    </tr>\n",
              "    <tr>\n",
              "      <th>4</th>\n",
              "      <td>117384.68</td>\n",
              "      <td>1</td>\n",
              "      <td>4</td>\n",
              "      <td>12770.11290</td>\n",
              "      <td>5</td>\n",
              "    </tr>\n",
              "  </tbody>\n",
              "</table>\n",
              "</div>\n",
              "      <button class=\"colab-df-convert\" onclick=\"convertToInteractive('df-b42805df-a8b3-4ec2-9a3e-18858b2c0909')\"\n",
              "              title=\"Convert this dataframe to an interactive table.\"\n",
              "              style=\"display:none;\">\n",
              "        \n",
              "  <svg xmlns=\"http://www.w3.org/2000/svg\" height=\"24px\"viewBox=\"0 0 24 24\"\n",
              "       width=\"24px\">\n",
              "    <path d=\"M0 0h24v24H0V0z\" fill=\"none\"/>\n",
              "    <path d=\"M18.56 5.44l.94 2.06.94-2.06 2.06-.94-2.06-.94-.94-2.06-.94 2.06-2.06.94zm-11 1L8.5 8.5l.94-2.06 2.06-.94-2.06-.94L8.5 2.5l-.94 2.06-2.06.94zm10 10l.94 2.06.94-2.06 2.06-.94-2.06-.94-.94-2.06-.94 2.06-2.06.94z\"/><path d=\"M17.41 7.96l-1.37-1.37c-.4-.4-.92-.59-1.43-.59-.52 0-1.04.2-1.43.59L10.3 9.45l-7.72 7.72c-.78.78-.78 2.05 0 2.83L4 21.41c.39.39.9.59 1.41.59.51 0 1.02-.2 1.41-.59l7.78-7.78 2.81-2.81c.8-.78.8-2.07 0-2.86zM5.41 20L4 18.59l7.72-7.72 1.47 1.35L5.41 20z\"/>\n",
              "  </svg>\n",
              "      </button>\n",
              "      \n",
              "  <style>\n",
              "    .colab-df-container {\n",
              "      display:flex;\n",
              "      flex-wrap:wrap;\n",
              "      gap: 12px;\n",
              "    }\n",
              "\n",
              "    .colab-df-convert {\n",
              "      background-color: #E8F0FE;\n",
              "      border: none;\n",
              "      border-radius: 50%;\n",
              "      cursor: pointer;\n",
              "      display: none;\n",
              "      fill: #1967D2;\n",
              "      height: 32px;\n",
              "      padding: 0 0 0 0;\n",
              "      width: 32px;\n",
              "    }\n",
              "\n",
              "    .colab-df-convert:hover {\n",
              "      background-color: #E2EBFA;\n",
              "      box-shadow: 0px 1px 2px rgba(60, 64, 67, 0.3), 0px 1px 3px 1px rgba(60, 64, 67, 0.15);\n",
              "      fill: #174EA6;\n",
              "    }\n",
              "\n",
              "    [theme=dark] .colab-df-convert {\n",
              "      background-color: #3B4455;\n",
              "      fill: #D2E3FC;\n",
              "    }\n",
              "\n",
              "    [theme=dark] .colab-df-convert:hover {\n",
              "      background-color: #434B5C;\n",
              "      box-shadow: 0px 1px 3px 1px rgba(0, 0, 0, 0.15);\n",
              "      filter: drop-shadow(0px 1px 2px rgba(0, 0, 0, 0.3));\n",
              "      fill: #FFFFFF;\n",
              "    }\n",
              "  </style>\n",
              "\n",
              "      <script>\n",
              "        const buttonEl =\n",
              "          document.querySelector('#df-b42805df-a8b3-4ec2-9a3e-18858b2c0909 button.colab-df-convert');\n",
              "        buttonEl.style.display =\n",
              "          google.colab.kernel.accessAllowed ? 'block' : 'none';\n",
              "\n",
              "        async function convertToInteractive(key) {\n",
              "          const element = document.querySelector('#df-b42805df-a8b3-4ec2-9a3e-18858b2c0909');\n",
              "          const dataTable =\n",
              "            await google.colab.kernel.invokeFunction('convertToInteractive',\n",
              "                                                     [key], {});\n",
              "          if (!dataTable) return;\n",
              "\n",
              "          const docLinkHtml = 'Like what you see? Visit the ' +\n",
              "            '<a target=\"_blank\" href=https://colab.research.google.com/notebooks/data_table.ipynb>data table notebook</a>'\n",
              "            + ' to learn more about interactive tables.';\n",
              "          element.innerHTML = '';\n",
              "          dataTable['output_type'] = 'display_data';\n",
              "          await google.colab.output.renderOutput(dataTable, element);\n",
              "          const docLink = document.createElement('div');\n",
              "          docLink.innerHTML = docLinkHtml;\n",
              "          element.appendChild(docLink);\n",
              "        }\n",
              "      </script>\n",
              "    </div>\n",
              "  </div>\n",
              "  "
            ],
            "text/plain": [
              "       preco  vendido  idade_do_modelo   km_por_ano  model\n",
              "0   30941.02        1               18  35085.22134     18\n",
              "1   40557.96        1               20  12622.05362     24\n",
              "2   89627.50        0               12  11440.79806     14\n",
              "3   95276.14        0                3  43167.32682      6\n",
              "4  117384.68        1                4  12770.11290      5"
            ]
          },
          "metadata": {},
          "execution_count": 390
        }
      ]
    },
    {
      "cell_type": "code",
      "source": [
        "from sklearn.model_selection import GroupKFold"
      ],
      "metadata": {
        "id": "HoPi4CvGOSz5"
      },
      "execution_count": 391,
      "outputs": []
    },
    {
      "cell_type": "code",
      "source": [
        "SEED = 301\n",
        "np.random.seed(SEED)\n",
        "\n",
        "cv = GroupKFold(n_splits= 10)\n",
        "\n",
        "model = DecisionTreeClassifier(max_depth= 2)\n",
        "results = cross_validate(model, unlucky_x, unlucky_y, cv = cv, groups=dados.model)\n",
        "mean = results['test_score'].mean()\n",
        "std = results['test_score'].std() \n",
        "accuracy_range = (mean - 2 * std, mean + 2 * std)\n",
        "print(f'Accuracy mean: {mean:.2%}')\n",
        "print(f'accuracy range: {accuracy_range[0]:.2%} - {accuracy_range[1]:.2%}')"
      ],
      "metadata": {
        "colab": {
          "base_uri": "https://localhost:8080/"
        },
        "outputId": "d211a355-c7c9-4370-e578-a7ab61290899",
        "id": "34LKJbxKPCV4"
      },
      "execution_count": 392,
      "outputs": [
        {
          "output_type": "stream",
          "name": "stdout",
          "text": [
            "Accuracy mean: 75.78%\n",
            "accuracy range: 73.67% - 77.90%\n"
          ]
        }
      ]
    },
    {
      "cell_type": "markdown",
      "source": [
        "# Cross validation with StandardScaler"
      ],
      "metadata": {
        "id": "xIAkWK_oQ0io"
      }
    },
    {
      "cell_type": "code",
      "source": [
        "from sklearn.preprocessing import StandardScaler\n",
        "from sklearn.svm import SVC"
      ],
      "metadata": {
        "id": "6w3pHSxkQ5qE"
      },
      "execution_count": 393,
      "outputs": []
    },
    {
      "cell_type": "code",
      "source": [
        "SEED = 301\n",
        "np.random.seed(SEED)\n",
        "\n",
        "scaler = StandardScaler()\n",
        "scaler.fit(treino_x)\n",
        "treino_x_scaled = scaler.transform(treino_x)\n",
        "teste_x_scaled = scaler.transform(teste_x)\n",
        "model = SVC()\n",
        "model.fit(treino_x_scaled, treino_y)\n",
        "previsoes = model.predict(teste_x_scaled)\n",
        "\n",
        "acuracia = accuracy_score(teste_y, previsoes) * 100\n",
        "print (\"A acurácia foi %.2f%%\" % acuracia)"
      ],
      "metadata": {
        "colab": {
          "base_uri": "https://localhost:8080/"
        },
        "id": "fAKjRl9wRBiA",
        "outputId": "c451e358-c975-4c2e-ab47-bd330bf02ebe"
      },
      "execution_count": 394,
      "outputs": [
        {
          "output_type": "stream",
          "name": "stdout",
          "text": [
            "A acurácia foi 74.40%\n"
          ]
        }
      ]
    },
    {
      "cell_type": "code",
      "source": [
        "from sklearn.pipeline import Pipeline"
      ],
      "metadata": {
        "id": "dv7Ir3z9U5BI"
      },
      "execution_count": 395,
      "outputs": []
    },
    {
      "cell_type": "code",
      "source": [
        "SEED = 301\n",
        "np.random.seed(SEED)\n",
        "\n",
        "scaler = StandardScaler()\n",
        "model = SVC()\n",
        "pipeline = Pipeline([('transfomation', scaler), ('estimator', model)])\n",
        "cv = GroupKFold(n_splits= 10)\n",
        "\n",
        "results = cross_validate(pipeline, unlucky_x, unlucky_y, cv = cv, groups= dados.model)\n",
        "mean = results['test_score'].mean()\n",
        "std = results['test_score'].std() \n",
        "accuracy_range = (mean - 2 * std, mean + 2 * std)\n",
        "print(f'Accuracy mean: {mean:.2%}')\n",
        "print(f'accuracy range: {accuracy_range[0]:.2%} - {accuracy_range[1]:.2%}')"
      ],
      "metadata": {
        "colab": {
          "base_uri": "https://localhost:8080/"
        },
        "outputId": "78954255-2e00-49aa-d6f3-9c1a5aadb61c",
        "id": "WJrBwsPVSqWQ"
      },
      "execution_count": 396,
      "outputs": [
        {
          "output_type": "stream",
          "name": "stdout",
          "text": [
            "Accuracy mean: 76.68%\n",
            "accuracy range: 74.28% - 79.08%\n"
          ]
        }
      ]
    },
    {
      "cell_type": "code",
      "source": [
        "SEED = 301\n",
        "np.random.seed(SEED)\n",
        "\n",
        "scaler = StandardScaler()\n",
        "model = SVC()\n",
        "pipeline = Pipeline([('transfomation', scaler), ('estimator', model)])\n",
        "cv = GroupKFold(n_splits= 10)\n",
        "\n",
        "results = cross_validate(pipeline, x, y, cv = cv, groups= dados.model)\n",
        "mean = results['test_score'].mean()\n",
        "std = results['test_score'].std() \n",
        "accuracy_range = (mean - 2 * std, mean + 2 * std)\n",
        "print(f'Accuracy mean: {mean:.2%}')\n",
        "print(f'accuracy range: {accuracy_range[0]:.2%} - {accuracy_range[1]:.2%}')\n"
      ],
      "metadata": {
        "colab": {
          "base_uri": "https://localhost:8080/"
        },
        "id": "9Ov3WQYEYbkI",
        "outputId": "d04d7ea5-f97f-4317-ae62-0748cfdd70e8"
      },
      "execution_count": 397,
      "outputs": [
        {
          "output_type": "stream",
          "name": "stdout",
          "text": [
            "Accuracy mean: 76.55%\n",
            "accuracy range: 73.22% - 79.88%\n"
          ]
        }
      ]
    },
    {
      "cell_type": "code",
      "source": [
        ""
      ],
      "metadata": {
        "id": "RauWLHxfW0De"
      },
      "execution_count": 397,
      "outputs": []
    }
  ]
}